{
 "cells": [
  {
   "cell_type": "code",
   "execution_count": 1,
   "id": "a96a0742-30ca-4848-bbff-f876879296a0",
   "metadata": {},
   "outputs": [],
   "source": [
    "import csv\n",
    "import random\n",
    "from collections import defaultdict\n",
    "from nltk.util import pad_sequence\n",
    "from nltk.util import bigrams\n",
    "from nltk.util import ngrams\n",
    "from nltk.util import everygrams\n",
    "from nltk.lm.preprocessing import pad_both_ends\n",
    "from nltk.lm.preprocessing import flatten\n",
    "import pandas as pd\n",
    "import numpy as np\n"
   ]
  },
  {
   "cell_type": "code",
   "execution_count": null,
   "id": "16ea6617",
   "metadata": {},
   "outputs": [],
   "source": [
    "music_data=pd.read_csv('music.csv')"
   ]
  },
  {
   "cell_type": "code",
   "execution_count": null,
   "id": "502aeb30",
   "metadata": {},
   "outputs": [],
   "source": [
    "#music_data = music_data.drop('-')\n",
    "Name_music=music_data['name']\n",
    "Note_music=music_data['note']\n",
    "Dastgah_music=music_data['dastgah']\n"
   ]
  },
  {
   "cell_type": "markdown",
   "id": "66502075-6f63-4f5f-ba66-b846fca3be01",
   "metadata": {},
   "source": [
    "## perplexity"
   ]
  },
  {
   "cell_type": "code",
   "execution_count": 2,
   "id": "ef2aa4e4-0479-43fb-bae2-3907d154c7ec",
   "metadata": {},
   "outputs": [],
   "source": [
    "import math\n",
    "\n",
    "def calculate_perplexity(notes_list, model, n):\n",
    "    # Create n-grams from the notes list\n",
    "    ngrams = [tuple(notes_list[i:i+n]) for i in range(len(notes_list)-n+1)]\n",
    "    \n",
    "    # Calculate the perplexity\n",
    "    log_prob = 0\n",
    "    for ngram in ngrams:\n",
    "        prob = model.get_probability(ngram)\n",
    "        if prob == 0:\n",
    "            # Handle zero probabilities by setting the probability to a small value\n",
    "            prob = 1e-10 \n",
    "        log_prob += math.log(prob, 2)\n",
    "    log_prob = log_prob / len(ngrams)\n",
    "    perplexity = 2**(-log_prob)\n",
    "    \n",
    "    return perplexity"
   ]
  },
  {
   "cell_type": "code",
   "execution_count": 3,
   "id": "a13fb621-01a4-4360-9a48-f838f2c98fac",
   "metadata": {},
   "outputs": [],
   "source": [
    "def get_notes_from_csv2(df):\n",
    "    notes = []\n",
    "    Note = df['note']\n",
    "    for i in range(len(df)):\n",
    "        seni = Note[i].split(' ')\n",
    "        seni.remove('')\n",
    "        for s in sen:\n",
    "            notes.append(s)\n",
    "    return notes"
   ]
  },
  {
   "cell_type": "code",
   "execution_count": 1,
   "id": "33cf5cdd-c83b-4cc7-959f-06d9bc1b0e4d",
   "metadata": {},
   "outputs": [],
   "source": [
    "import re\n",
    "\n",
    "def create_ngram_model(n, notes, alpha):    \n",
    "    model = defaultdict(list)\n",
    "    \n",
    "    for i in range(len(notes)-n):\n",
    "        sequence = tuple(notes[i:i+n])\n",
    "        next_note = notes[i+n]\n",
    "        model[sequence].append(next_note)\n",
    "    \n",
    "    ## smoothing\n",
    "    unique_sequences = set(model.keys())\n",
    "    for sequence in unique_sequences:\n",
    "        nex_notes = model[sequence]\n",
    "        total_count = len(nex_notes)\n",
    "    \n",
    "        for note in set(next_notes):\n",
    "            co = nex_notes.count(note)\n",
    "            prob = (co + alpha) / (total_count + len(set(notes)))\n",
    "            model[sequence][model[sequence].index(note)] = (note, prob)\n",
    "    \n",
    "    return model"
   ]
  },
  {
   "cell_type": "code",
   "execution_count": 2,
   "id": "394f8357-98dc-4a27-9c02-d8b964815945",
   "metadata": {},
   "outputs": [],
   "source": [
    "import random\n",
    "\n",
    "def generate_notes(model, start_sequence, length, n):\n",
    "    # Convert the start sequence to a tuple\n",
    "    current_sequence = tuple(start_sequence)\n",
    "    \n",
    "    # Generate notes until the desired length is reached\n",
    "    generated_notes = list(current_sequence)\n",
    "    while len(generated_notes) < length:\n",
    "        # Get the probabilities of the next notes for the current sequence\n",
    "        next_notes = model['get_probability'](current_sequence)\n",
    "        \n",
    "        # Choose the next note based on its probability\n",
    "        note, prob = zip(*next_notes.items())\n",
    "        note = random.choices(note, weights=prob)[0]\n",
    "        \n",
    "        # Add the chosen note to the generated notes and update the current sequence\n",
    "        generated_notes.append(note)\n",
    "        current_sequence = tuple(generated_notes[-n:])\n",
    "    \n",
    "    # Return the generated notes as a string\n",
    "    return ' '.join(generated_notes)"
   ]
  },
  {
   "cell_type": "code",
   "execution_count": null,
   "id": "833d8ca2",
   "metadata": {},
   "outputs": [],
   "source": [
    "#bigram"
   ]
  },
  {
   "cell_type": "code",
   "execution_count": 6,
   "id": "952d94d4-683e-4842-8bc1-66d5355bcb9f",
   "metadata": {
    "tags": []
   },
   "outputs": [],
   "source": [
    "notes = get_notes_from_csv2(music_data)\n",
    "\n",
    "model1 = create_ngram_model(1, notes, alpha=1)\n",
    "model2 = create_ngram_model(1, notes, alpha=0.5)\n",
    "\n",
    "notes1=[]\n",
    "notes2=[]"
   ]
  },
  {
   "cell_type": "code",
   "execution_count": 7,
   "id": "40ff9783-6746-4d34-ab1d-491aceeef752",
   "metadata": {
    "tags": []
   },
   "outputs": [
    {
     "name": "stdout",
     "output_type": "stream",
     "text": [
      "S S S S A S G S C Bb C S D E\n",
      "S S S S G C D D D B C B S D\n"
     ]
    }
   ],
   "source": [
    "not_1=generate_notes(model1, 'S S S S', 10,1)\n",
    "not_2=generate_notes(model2, 'S S S S', 10,1)\n",
    "\n",
    "notes1.append(not1)\n",
    "notes2.append(not2)\n",
    "\n",
    "print(not_1)\n",
    "print(not_2)"
   ]
  },
  {
   "cell_type": "code",
   "execution_count": 8,
   "id": "7e87847d-9ba8-4cf6-be12-89c0cb31c249",
   "metadata": {
    "tags": []
   },
   "outputs": [
    {
     "name": "stdout",
     "output_type": "stream",
     "text": [
      "G C G C F G A B S G B B B C\n",
      "G C G C C G A D S D D C C C\n"
     ]
    }
   ],
   "source": [
    "not_1=generate_notes(model1, 'G C G C', 10,1)\n",
    "not_2=generate_notes(model2, 'G C G C', 10,1)\n",
    "\n",
    "notes1.append(not1)\n",
    "notes2.append(not2)\n",
    "\n",
    "print(not_1)\n",
    "print(not_2)"
   ]
  },
  {
   "cell_type": "code",
   "execution_count": 9,
   "id": "ae8a6d28-2f9f-43cb-899c-23714eddc76c",
   "metadata": {},
   "outputs": [
    {
     "name": "stdout",
     "output_type": "stream",
     "text": [
      "A B C D Bb S G G D E D E E E\n",
      "A B C D D D D C C C C C C C\n"
     ]
    }
   ],
   "source": [
    "not_1=generate_notes(model1, 'A B C D', 10,1)\n",
    "not_2=generate_notes(model2, 'A B C D', 10,1)\n",
    "\n",
    "notes1.append(not1)\n",
    "notes2.append(not2)\n",
    "\n",
    "print(not_1)\n",
    "print(not_2)"
   ]
  },
  {
   "cell_type": "code",
   "execution_count": 10,
   "id": "494456c4-74ef-449c-8264-c9b8eab23bbd",
   "metadata": {
    "tags": []
   },
   "outputs": [
    {
     "name": "stdout",
     "output_type": "stream",
     "text": [
      "A S B Db\n",
      "A S B Db\n"
     ]
    }
   ],
   "source": [
    "not_1 = generate_notes(model1, 'A S B Db',10,1)\n",
    "not_2 = generate_notes(model2, 'A S B Db',10,1)\n",
    "\n",
    "notes1.append(not1)\n",
    "notes2.append(not2)\n",
    "\n",
    "print(not_1)\n",
    "print(not_2)"
   ]
  },
  {
   "cell_type": "code",
   "execution_count": 11,
   "id": "9ea03960-28eb-4424-977a-47b182e08247",
   "metadata": {
    "tags": []
   },
   "outputs": [
    {
     "name": "stdout",
     "output_type": "stream",
     "text": [
      "A Bb C D E E E E S D D D D F\n",
      "A Bb C D D E S D E S B A A E\n"
     ]
    }
   ],
   "source": [
    "not_1=generate_notes(model1, 'A Bb C D',10,1)\n",
    "not_2=generate_notes(model2, 'A Bb C D',10,1)\n",
    "\n",
    "notes1.append(not1)\n",
    "notes2.append(not2)\n",
    "\n",
    "print(not_1)\n",
    "print(not_2)"
   ]
  },
  {
   "cell_type": "code",
   "execution_count": 12,
   "id": "909e7b3e-63eb-41fc-903d-40b2edcf8359",
   "metadata": {
    "tags": []
   },
   "outputs": [
    {
     "name": "stdout",
     "output_type": "stream",
     "text": [
      "Perplexity: [24.64591563611437, 27.617008908077093, 27.725202619895747, 22.23574609159935, 27.89984514893912]\n"
     ]
    }
   ],
   "source": [
    "perplexity = calculate_perplexity(notes1, model1, 2)\n",
    "print(\"Perplexity:\", perplexity)"
   ]
  },
  {
   "cell_type": "code",
   "execution_count": 13,
   "id": "70684e82-2144-44bf-8925-ac20daa1445b",
   "metadata": {},
   "outputs": [
    {
     "name": "stdout",
     "output_type": "stream",
     "text": [
      "Perplexity: [25.471637089954047, 30.116395821065208, 29.525829674541768, 21.086221420048247, 26.226336788315436]\n"
     ]
    }
   ],
   "source": [
    "perplexity = calculate_perplexity(notes2, model2, 2)\n",
    "print(\"Perplexity:\", perplexity)"
   ]
  },
  {
   "cell_type": "markdown",
   "id": "f960409c-43f8-491d-97e0-4311985af0d3",
   "metadata": {},
   "source": [
    "# trigram"
   ]
  },
  {
   "cell_type": "code",
   "execution_count": 14,
   "id": "3091d10b-bae3-42ac-8028-93a12687ea5f",
   "metadata": {},
   "outputs": [],
   "source": [
    "notes=get_notes_from_csv2(music_data)\n",
    "\n",
    "model1=create_ngram_model(2, notes, alpha=1)\n",
    "model2=create_ngram_model(2, notes, alpha=0.5)\n",
    "\n",
    "notes1=[]\n",
    "notes2=[]"
   ]
  },
  {
   "cell_type": "code",
   "execution_count": 15,
   "id": "b6992957-2e3f-4cab-8302-3c2650ac6802",
   "metadata": {
    "tags": []
   },
   "outputs": [
    {
     "name": "stdout",
     "output_type": "stream",
     "text": [
      "S S S S G C S Ab G S D Bb A A\n",
      "S S S S G C C C D E E D D Bb\n"
     ]
    }
   ],
   "source": [
    "not1=generate_notes(model1, 'S S S S', 10,2)\n",
    "not2=generate_notes(model2, 'S S S S', 10,2)\n",
    "\n",
    "notes1.append(not1)\n",
    "notes2.append(not2)\n",
    "\n",
    "print(not1)\n",
    "print(not2)"
   ]
  },
  {
   "cell_type": "code",
   "execution_count": 16,
   "id": "15827f11-a727-43e6-8f3c-4d16ff22f1d0",
   "metadata": {},
   "outputs": [
    {
     "name": "stdout",
     "output_type": "stream",
     "text": [
      "G C G C C C C F G G F G F F\n",
      "G C G C C C D D E F C C C C\n"
     ]
    }
   ],
   "source": [
    "not1=generate_notes(model1, 'G C G C', 10,2)\n",
    "not2=generate_notes(model2, 'G C G C', 10,2)\n",
    "\n",
    "notes1.append(not1)\n",
    "notes2.append(not2)\n",
    "\n",
    "print(not1)\n",
    "print(not2)"
   ]
  },
  {
   "cell_type": "code",
   "execution_count": 17,
   "id": "ada0b093-893b-48c6-b3fc-719e36047e4e",
   "metadata": {},
   "outputs": [
    {
     "name": "stdout",
     "output_type": "stream",
     "text": [
      "A B C D E F G E D E E E E D\n",
      "A B C D B\n"
     ]
    }
   ],
   "source": [
    "not1=generate_notes(model1, 'A B C D', 10,2)\n",
    "not2=generate_notes(model2, 'A B C D', 10,2)\n",
    "\n",
    "notes1.append(not1)\n",
    "notes2.append(not2)\n",
    "\n",
    "print(not1)\n",
    "print(not2)"
   ]
  },
  {
   "cell_type": "code",
   "execution_count": 18,
   "id": "f1b2cfb7-5c03-4157-afd0-4efbdc57f74d",
   "metadata": {},
   "outputs": [
    {
     "name": "stdout",
     "output_type": "stream",
     "text": [
      "A S B Db\n",
      "A S B Db\n"
     ]
    }
   ],
   "source": [
    "not1=generate_notes(model1, 'A S B Db', 10,2)\n",
    "not2=generate_notes(model2, 'A S B Db', 10,2)\n",
    "\n",
    "notes1.append(not1)\n",
    "notes2.append(not2)\n",
    "\n",
    "print(not1)\n",
    "print(not2)"
   ]
  },
  {
   "cell_type": "code",
   "execution_count": 19,
   "id": "0ede2e09-1b5c-405d-8665-ee79bbd6c5ef",
   "metadata": {},
   "outputs": [
    {
     "name": "stdout",
     "output_type": "stream",
     "text": [
      "A Bb C D E C C Bb C S S G C S\n",
      "A Bb C D D E F E E C C D Bb B\n"
     ]
    }
   ],
   "source": [
    "not1=generate_notes(model1, 'A Bb C D', 10,2)\n",
    "not2=generate_notes(model2, 'A Bb C D', 10,2)\n",
    "\n",
    "notes1.append(not1)\n",
    "notes2.append(not2)\n",
    "\n",
    "print(not1)\n",
    "print(not2)"
   ]
  },
  {
   "cell_type": "code",
   "execution_count": 20,
   "id": "819690de-6652-4c8c-82be-715714eb1818",
   "metadata": {},
   "outputs": [
    {
     "name": "stdout",
     "output_type": "stream",
     "text": [
      "Perplexity: [84.86614213547846, 93.71466915887856, 98.94916990072934, 99.99999999999997, 100.00000000000023]\n"
     ]
    }
   ],
   "source": [
    "print(\"Perplexity:\", calculate_perplexity(notes1, model1, 3))"
   ]
  },
  {
   "cell_type": "code",
   "execution_count": 21,
   "id": "6cb91849-f9b5-46f2-9c29-dcf5b7e30c72",
   "metadata": {},
   "outputs": [
    {
     "name": "stdout",
     "output_type": "stream",
     "text": [
      "Perplexity: [84.23515654184608, 90.39604469775983, 94.55949265821245, 95.99999999999993, 97.66398855933213]\n"
     ]
    }
   ],
   "source": [
    "print(\"Perplexity:\", calculate_perplexity(notes2, model2, 3))"
   ]
  },
  {
   "cell_type": "markdown",
   "id": "e2b3e8a6-bfb6-425f-9db2-078c006e1136",
   "metadata": {},
   "source": [
    "## unigram"
   ]
  },
  {
   "cell_type": "code",
   "execution_count": null,
   "id": "5a89d412",
   "metadata": {},
   "outputs": [],
   "source": [
    "from collections import Counter\n",
    "import re\n",
    "\n",
    "def create_unigram_model(df, alpha=1):\n",
    "    tokens = re.findall(r'\\b\\w+\\b', df['note'].str.lower().str.cat(sep=' '))\n",
    "    token_counts = Counter(tokens)\n",
    "    total_tokens = sum(token_counts.values())\n",
    "    vocab_size = len(token_counts)\n",
    "    probabilities = {token: (count + alpha) / (total_tokens + alpha * vocab_size)\n",
    "                     for token, count in token_counts.items()}\n",
    "    return probabilities"
   ]
  },
  {
   "cell_type": "code",
   "execution_count": 23,
   "id": "a3d934eb-db1f-4678-a8de-c83d02ef640c",
   "metadata": {},
   "outputs": [],
   "source": [
    "import random\n",
    "\n",
    "def get_sampled_ind(probs):\n",
    "    cum_probs = [sum(probs[:i+1]) for i in range(len(probs))]\n",
    "    if cum_probs[-1] >= 1:\n",
    "        x = cum_probs[-1] - 1\n",
    "        cum_probs = [p - x for p in cum_probs]\n",
    "    else:\n",
    "        x = 1 - cum_probs[-1]\n",
    "        cum_probs = [p + x for p in cum_probs]\n",
    "    rand = random.random()\n",
    "    for i in range(len(cum_probs)):\n",
    "        if rand <= cum_probs[i]:\n",
    "            return i"
   ]
  },
  {
   "cell_type": "code",
   "execution_count": 24,
   "id": "0a4efe32-d6a0-4a90-9786-8e78467dfb37",
   "metadata": {},
   "outputs": [],
   "source": [
    "def generate_note_unigram(model, start_sequence_str, length):\n",
    "   \n",
    "    start_sequence = start_sequence_str.split()\n",
    "    generated_notes = list(start_sequence)\n",
    "   \n",
    "    while len(generated_notes) < length:\n",
    "        next_notes = model\n",
    "        note = random.choices(list(next_notes.keys()), weights=list(next_notes.values()))[0]\n",
    "        generated_notes.append(note)\n",
    "    \n",
    "    return ' '.join(generated_notes)"
   ]
  },
  {
   "cell_type": "code",
   "execution_count": 25,
   "id": "5d0bfead-ddee-4b0c-b7cb-8369db406d63",
   "metadata": {},
   "outputs": [],
   "source": [
    "import math\n",
    "\n",
    "def perplexity_unigram(text, unigram_model):\n",
    "    # Tokenize the text\n",
    "    tokens = text.split()\n",
    "    \n",
    "    # Initialize variables\n",
    "    log_prob = 0\n",
    "    N = len(tokens)\n",
    "    \n",
    "    # Calculate the log probability of the text\n",
    "    for token in tokens:\n",
    "        if token in unigram_model:\n",
    "            log_prob += math.log(unigram_model[token])\n",
    "        else:\n",
    "            log_prob += math.log(1e-10)  # set a small value for unknown tokens\n",
    "    \n",
    "    # Calculate the perplexity of the text\n",
    "    perplexity = math.exp(-log_prob / N)\n",
    "    \n",
    "    return perplexity"
   ]
  },
  {
   "cell_type": "code",
   "execution_count": 26,
   "id": "9b8096ba-4eac-42de-bb43-6cb65ff616c6",
   "metadata": {},
   "outputs": [],
   "source": [
    "df=pd.read_csv('music.csv')\n",
    "notes = get_notes_from_csv2(df)\n",
    "\n",
    "model1 = create_unigram_model(df,0.5)\n",
    "model2 = create_unigram_model(df,1)\n",
    "\n",
    "notes1=[]\n",
    "notes2=[]"
   ]
  },
  {
   "cell_type": "code",
   "execution_count": 27,
   "id": "98dfc1a1-ad81-47b5-9601-bfd217c6b033",
   "metadata": {},
   "outputs": [
    {
     "name": "stdout",
     "output_type": "stream",
     "text": [
      "S S S S f c c g bb a g c b c\n",
      "S S S S a c g bb g c e c a b\n"
     ]
    }
   ],
   "source": [
    "not1=generate_note_unigram(model1, 'S S S S', 10)\n",
    "not2=generate_note_unigram(model2, 'S S S S', 10)\n",
    "\n",
    "notes1.append(not1)\n",
    "notes2.append(not2)\n",
    "\n",
    "print(not1)\n",
    "print(not2)"
   ]
  },
  {
   "cell_type": "code",
   "execution_count": 28,
   "id": "d3873ce3-8909-4ffc-a9d3-ab453ccb4326",
   "metadata": {},
   "outputs": [
    {
     "name": "stdout",
     "output_type": "stream",
     "text": [
      "G C G C g s f e s e bb c c g\n",
      "G C G C b c e e g g a c bb d\n"
     ]
    }
   ],
   "source": [
    "not1=generate_note_unigram(model1, 'G C G C', 10)\n",
    "not2=generate_note_unigram(model2, 'G C G C', 10)\n",
    "\n",
    "notes1.append(not1)\n",
    "notes2.append(not2)\n",
    "\n",
    "print(not1)\n",
    "print(not2)"
   ]
  },
  {
   "cell_type": "code",
   "execution_count": 29,
   "id": "656957e5-cfdf-47a9-9726-eeaf9cb084b9",
   "metadata": {},
   "outputs": [
    {
     "name": "stdout",
     "output_type": "stream",
     "text": [
      "A B C D bb bb ab a bb g e g g eb\n",
      "A B C D g g g c g a g ab f c\n"
     ]
    }
   ],
   "source": [
    "not1=generate_note_unigram(model1, 'A B C D', 10)\n",
    "not2=generate_note_unigram(model2, 'A B C D', 10)\n",
    "\n",
    "notes1.append(not1)\n",
    "notes2.append(not2)\n",
    "\n",
    "print(not1)\n",
    "print(not2)"
   ]
  },
  {
   "cell_type": "code",
   "execution_count": 30,
   "id": "ee5cf5dc-308f-415c-ab9e-7b48fc1c9280",
   "metadata": {},
   "outputs": [
    {
     "name": "stdout",
     "output_type": "stream",
     "text": [
      "A Bb C D g g bb c a d g d ab s\n",
      "A Bb C D bb a g e e b bb g e f\n"
     ]
    }
   ],
   "source": [
    "not1=generate_note_unigram(model1, 'A Bb C D', 10)\n",
    "not2=generate_note_unigram(model2, 'A Bb C D', 10)\n",
    "\n",
    "notes1.append(not1)\n",
    "notes2.append(not2)\n",
    "\n",
    "print(not1)\n",
    "print(not2)"
   ]
  },
  {
   "cell_type": "code",
   "execution_count": 31,
   "id": "e21879c1-4e9d-4361-b17a-ba7ed24fc6cd",
   "metadata": {},
   "outputs": [
    {
     "name": "stdout",
     "output_type": "stream",
     "text": [
      "A S B Db s bb e e a c b e d e\n",
      "A S B Db a e b e c bb c a e f\n"
     ]
    }
   ],
   "source": [
    "not1=generate_note_unigram(model1, 'A S B Db', 10)\n",
    "not2=generate_note_unigram(model2, 'A S B Db', 10)\n",
    "\n",
    "notes1.append(not1)\n",
    "notes2.append(not2)\n",
    "\n",
    "print(not1)\n",
    "print(not2)"
   ]
  },
  {
   "cell_type": "code",
   "execution_count": 32,
   "id": "7ee05f26-610e-44b7-bcae-2f926e1f5360",
   "metadata": {},
   "outputs": [
    {
     "name": "stdout",
     "output_type": "stream",
     "text": [
      "Perplexity: [1.0008562494516828, 1.0008459565234427, 1.0007897912863555, 1.0008334172698121, 1.000827976909278]\n"
     ]
    }
   ],
   "source": [
    "print(\"Perplexity:\", perplexity_unigram(notes1, model1))"
   ]
  },
  {
   "cell_type": "code",
   "execution_count": 33,
   "id": "022dc126-e74b-452b-bb50-fada12fd81fe",
   "metadata": {},
   "outputs": [
    {
     "name": "stdout",
     "output_type": "stream",
     "text": [
      "Perplexity: [1.0008520309500284, 1.0008514535946609, 1.0008543257092892, 1.0008321080315923, 1.000832329758147]\n"
     ]
    }
   ],
   "source": [
    "print(\"Perplexity:\", perplexity_unigram(notes2, model2))"
   ]
  },
  {
   "cell_type": "code",
   "execution_count": null,
   "id": "71751cea-0386-4926-af54-5aaa821bae8e",
   "metadata": {},
   "outputs": [],
   "source": []
  },
  {
   "cell_type": "code",
   "execution_count": null,
   "id": "061de1dd-7c55-40e0-9e8b-8310e663c22d",
   "metadata": {},
   "outputs": [],
   "source": []
  }
 ],
 "metadata": {
  "kernelspec": {
   "display_name": "Python 3 (ipykernel)",
   "language": "python",
   "name": "python3"
  },
  "language_info": {
   "codemirror_mode": {
    "name": "ipython",
    "version": 3
   },
   "file_extension": ".py",
   "mimetype": "text/x-python",
   "name": "python",
   "nbconvert_exporter": "python",
   "pygments_lexer": "ipython3",
   "version": "3.9.1"
  }
 },
 "nbformat": 4,
 "nbformat_minor": 5
}
