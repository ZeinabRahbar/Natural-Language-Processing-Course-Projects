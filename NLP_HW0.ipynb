{
 "cells": [
  {
   "cell_type": "markdown",
   "id": "8757acbf",
   "metadata": {},
   "source": [
    "# When the last preprocessing step is stemming"
   ]
  },
  {
   "cell_type": "code",
   "execution_count": 6,
   "id": "e5212214",
   "metadata": {},
   "outputs": [
    {
     "name": "stdout",
     "output_type": "stream",
     "text": [
      "[nltk_data] Downloading package punkt to\n",
      "[nltk_data]     C:\\Users\\Ansar9811291\\AppData\\Roaming\\nltk_data...\n",
      "[nltk_data]   Package punkt is already up-to-date!\n"
     ]
    },
    {
     "name": "stderr",
     "output_type": "stream",
     "text": [
      "C:\\Users\\Ansar9811291\\AppData\\Local\\Temp\\ipykernel_11124\\3599976424.py:23: SettingWithCopyWarning: \n",
      "A value is trying to be set on a copy of a slice from a DataFrame\n",
      "\n",
      "See the caveats in the documentation: https://pandas.pydata.org/pandas-docs/stable/user_guide/indexing.html#returning-a-view-versus-a-copy\n",
      "  youtube['CONTENT'][i] = ' '.join(k)\n"
     ]
    },
    {
     "name": "stdout",
     "output_type": "stream",
     "text": [
      "model Accuracy: 0.8522727272727273\n"
     ]
    }
   ],
   "source": [
    "import pandas as pd\n",
    "import nltk\n",
    "from sklearn.metrics import accuracy_score\n",
    "from sklearn.neighbors import KNeighborsClassifier\n",
    "from sklearn.model_selection import train_test_split\n",
    "from nltk.classify.scikitlearn import SklearnClassifier\n",
    "from nltk.stem import PorterStemmer\n",
    "from nltk.tokenize import word_tokenize\n",
    "nltk.download('punkt')\n",
    "\n",
    "data = pd.read_csv('youtube.csv', encoding='utf-8')\n",
    "data = data.dropna(subset=['CONTENT'])\n",
    "\n",
    "# Preprocessing\n",
    "stemmer = PorterStemmer()\n",
    "for i in range(len(data)):\n",
    "    comment = data['CONTENT'][i].lower().strip()\n",
    "    words = word_tokenize(comment)\n",
    "    stemmed_words = [stemmer.stem(word) for word in words]\n",
    "    data['CONTENT'][i] = ' '.join(stemmed_words)\n",
    "\n",
    "# Tokenization\n",
    "vocabulary = []\n",
    "for comment in data['CONTENT']:\n",
    "    words = nltk.tokenize.word_tokenize(comment)\n",
    "    for word in words:\n",
    "        vocabulary.append(word)\n",
    "\n",
    "vocabulary = nltk.FreqDist(vocabulary)\n",
    "\n",
    "features = [x[0] for x in vocabulary.most_common(700)]\n",
    "\n",
    "vectors = []\n",
    "for comment in data['CONTENT']:\n",
    "    vector = {}\n",
    "    words = nltk.tokenize.word_tokenize(comment)\n",
    "    for word in features:\n",
    "        vector[word] = True if word in words else False\n",
    "        \n",
    "    vectors.append(vector)\n",
    "\n",
    "dataset = list(zip(vectors, data['CLASS']))\n",
    "\n",
    "train_set, test_set = train_test_split(dataset, test_size=0.25, random_state=1)\n",
    "\n",
    "nltk_model = SklearnClassifier(KNeighborsClassifier())\n",
    "nltk_model.train(train_set)\n",
    "accuracy = accuracy_score([y for (x, y) in test_set], nltk_model.classify_many(x for (x, y) in test_set))\n",
    "print(\"Model accuracy: {}\".format(accuracy))"
   ]
  },
  {
   "cell_type": "markdown",
   "id": "104f46cd",
   "metadata": {},
   "source": [
    "# When the last preprocessing step is lemmetiztion"
   ]
  },
  {
   "cell_type": "code",
   "execution_count": 7,
   "id": "8e272b7b",
   "metadata": {},
   "outputs": [
    {
     "name": "stdout",
     "output_type": "stream",
     "text": [
      "[nltk_data] Downloading package punkt to\n",
      "[nltk_data]     C:\\Users\\Ansar9811291\\AppData\\Roaming\\nltk_data...\n",
      "[nltk_data]   Package punkt is already up-to-date!\n",
      "[nltk_data] Downloading package wordnet to\n",
      "[nltk_data]     C:\\Users\\Ansar9811291\\AppData\\Roaming\\nltk_data...\n",
      "[nltk_data]   Package wordnet is already up-to-date!\n"
     ]
    },
    {
     "name": "stderr",
     "output_type": "stream",
     "text": [
      "C:\\Users\\Ansar9811291\\AppData\\Local\\Temp\\ipykernel_11124\\3050972758.py:21: SettingWithCopyWarning: \n",
      "A value is trying to be set on a copy of a slice from a DataFrame\n",
      "\n",
      "See the caveats in the documentation: https://pandas.pydata.org/pandas-docs/stable/user_guide/indexing.html#returning-a-view-versus-a-copy\n",
      "  data['CONTENT'][i] = ' '.join(lemmatized_words)\n"
     ]
    },
    {
     "name": "stdout",
     "output_type": "stream",
     "text": [
      "Model accuracy: 0.8409090909090909\n"
     ]
    }
   ],
   "source": [
    "import pandas as pd\n",
    "import nltk\n",
    "from sklearn.metrics import accuracy_score\n",
    "from sklearn.neighbors import KNeighborsClassifier\n",
    "from sklearn.model_selection import train_test_split\n",
    "from nltk.classify.scikitlearn import SklearnClassifier\n",
    "from nltk.stem import WordNetLemmatizer\n",
    "from nltk.tokenize import word_tokenize\n",
    "nltk.download('punkt')\n",
    "nltk.download('wordnet')\n",
    "\n",
    "data = pd.read_csv('youtube.csv', encoding='utf-8')\n",
    "data = data.dropna(subset=['CONTENT'])\n",
    "\n",
    "# Preprocessing\n",
    "lemmatizer = WordNetLemmatizer()\n",
    "for i in range(len(data)):\n",
    "    comment = data['CONTENT'][i].lower().strip()\n",
    "    words = word_tokenize(comment)\n",
    "    lemmatized_words = [lemmatizer.lemmatize(word) for word in words]\n",
    "    data['CONTENT'][i] = ' '.join(lemmatized_words)\n",
    "\n",
    "# Tokenization\n",
    "vocabulary = []\n",
    "for comment in data['CONTENT']:\n",
    "    words = nltk.tokenize.word_tokenize(comment)\n",
    "    for word in words:\n",
    "        vocabulary.append(word)\n",
    "\n",
    "vocabulary = nltk.FreqDist(vocabulary)\n",
    "\n",
    "features = [x[0] for x in vocabulary.most_common(700)]\n",
    "\n",
    "vectors = []\n",
    "for comment in data['CONTENT']:\n",
    "    vector = {}\n",
    "    words = nltk.tokenize.word_tokenize(comment)\n",
    "    for word in features:\n",
    "        vector[word] = True if word in words else False\n",
    "        \n",
    "    vectors.append(vector)\n",
    "\n",
    "dataset = list(zip(vectors, data['CLASS']))\n",
    "\n",
    "train_set, test_set = train_test_split(dataset, test_size=0.25, random_state=1)\n",
    "\n",
    "nltk_model = SklearnClassifier(KNeighborsClassifier())\n",
    "nltk_model.train(train_set)\n",
    "accuracy = accuracy_score([y for (x, y) in test_set], nltk_model.classify_many(x for (x, y) in test_set))\n",
    "print(\"Model accuracy: {}\".format(accuracy))"
   ]
  },
  {
   "cell_type": "markdown",
   "id": "ee3a7c73",
   "metadata": {},
   "source": [
    "# When the last preprocessing step is error correction\n"
   ]
  },
  {
   "cell_type": "code",
   "execution_count": null,
   "id": "b25b5318",
   "metadata": {},
   "outputs": [
    {
     "name": "stdout",
     "output_type": "stream",
     "text": [
      "[nltk_data] Downloading package punkt to\n",
      "[nltk_data]     C:\\Users\\Ansar9811291\\AppData\\Roaming\\nltk_data...\n",
      "[nltk_data]   Package punkt is already up-to-date!\n",
      "[nltk_data] Downloading package words to\n",
      "[nltk_data]     C:\\Users\\Ansar9811291\\AppData\\Roaming\\nltk_data...\n",
      "[nltk_data]   Package words is already up-to-date!\n"
     ]
    },
    {
     "name": "stderr",
     "output_type": "stream",
     "text": [
      "C:\\Users\\Ansar9811291\\AppData\\Local\\Temp\\ipykernel_11124\\1392109583.py:40: SettingWithCopyWarning: \n",
      "A value is trying to be set on a copy of a slice from a DataFrame\n",
      "\n",
      "See the caveats in the documentation: https://pandas.pydata.org/pandas-docs/stable/user_guide/indexing.html#returning-a-view-versus-a-copy\n",
      "  data['CONTENT'][i] = ' '.join(corrected_words)\n"
     ]
    }
   ],
   "source": [
    "import pandas as pd\n",
    "import nltk\n",
    "from sklearn.metrics import accuracy_score\n",
    "from sklearn.neighbors import KNeighborsClassifier\n",
    "from sklearn.model_selection import train_test_split\n",
    "from nltk.classify.scikitlearn import SklearnClassifier\n",
    "from nltk.tokenize import word_tokenize\n",
    "from nltk.corpus import words\n",
    "nltk.download('punkt')\n",
    "nltk.download('words')\n",
    "\n",
    "# Get a set of English words for spell checking\n",
    "english_words = set(words.words())\n",
    "\n",
    "data = pd.read_csv('youtube.csv', encoding='utf-8')\n",
    "data = data.dropna(subset=['CONTENT'])\n",
    "\n",
    "# Preprocessing\n",
    "for i in range(len(data)):\n",
    "    comment = data['CONTENT'][i].lower().strip()\n",
    "    words = word_tokenize(comment)\n",
    "    \n",
    "    # Perform spell correction\n",
    "    corrected_words = []\n",
    "    for w in words:\n",
    "        if w in english_words:\n",
    "            corrected_words.append(w)\n",
    "        else:\n",
    "            # If a word is not in the English dictionary, consider it a misspelling and replace it\n",
    "            # with the most similar English word\n",
    "            max_similarity = -1\n",
    "            corrected_word = w\n",
    "            for ew in english_words:\n",
    "                similarity = nltk.edit_distance(w, ew)\n",
    "                if similarity > max_similarity:\n",
    "                    max_similarity = similarity\n",
    "                    corrected_word = ew\n",
    "            corrected_words.append(corrected_word)\n",
    "    \n",
    "    data['CONTENT'][i] = ' '.join(corrected_words)\n",
    "\n",
    "# Tokenization\n",
    "vocabulary = []\n",
    "for comment in data['CONTENT']:\n",
    "    words = nltk.tokenize.word_tokenize(comment)\n",
    "    for word in words:\n",
    "        vocabulary.append(word)\n",
    "\n",
    "vocabulary = nltk.FreqDist(vocabulary)\n",
    "\n",
    "features = [x[0] for x in vocabulary.most_common(700)]\n",
    "\n",
    "vectors = []\n",
    "for comment in data['CONTENT']:\n",
    "    vector = {}\n",
    "    words = nltk.tokenize.word_tokenize(comment)\n",
    "    for word in features:\n",
    "        vector[word] = True if word in words else False\n",
    "        \n",
    "    vectors.append(vector)\n",
    "\n",
    "dataset = list(zip(vectors, data['CLASS']))\n",
    "\n",
    "train_set, test_set = train_test_split(dataset, test_size=0.25, random_state=1)\n",
    "\n",
    "nltk_model = SklearnClassifier(KNeighborsClassifier())\n",
    "nltk_model.train(train_set)\n",
    "accuracy = accuracy_score([y for (x, y) in test_set], nltk_model.classify_many(x for (x, y) in test_set))\n",
    "print(\"Model accuracy: {}\".format(accuracy))"
   ]
  },
  {
   "cell_type": "code",
   "execution_count": null,
   "id": "f5e98cda",
   "metadata": {},
   "outputs": [],
   "source": []
  }
 ],
 "metadata": {
  "kernelspec": {
   "display_name": "Python 3 (ipykernel)",
   "language": "python",
   "name": "python3"
  },
  "language_info": {
   "codemirror_mode": {
    "name": "ipython",
    "version": 3
   },
   "file_extension": ".py",
   "mimetype": "text/x-python",
   "name": "python",
   "nbconvert_exporter": "python",
   "pygments_lexer": "ipython3",
   "version": "3.9.1"
  }
 },
 "nbformat": 4,
 "nbformat_minor": 5
}
